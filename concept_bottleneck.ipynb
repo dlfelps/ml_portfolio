{
  "nbformat": 4,
  "nbformat_minor": 0,
  "metadata": {
    "colab": {
      "provenance": [],
      "toc_visible": true,
      "machine_shape": "hm",
      "gpuType": "L4",
      "authorship_tag": "ABX9TyPvMoIBZhdYe/+gSFM9p27M",
      "include_colab_link": true
    },
    "kernelspec": {
      "name": "python3",
      "display_name": "Python 3"
    },
    "language_info": {
      "name": "python"
    },
    "accelerator": "GPU"
  },
  "cells": [
    {
      "cell_type": "markdown",
      "metadata": {
        "id": "view-in-github",
        "colab_type": "text"
      },
      "source": [
        "<a href=\"https://colab.research.google.com/github/dlfelps/ml_portfolio/blob/main/concept_bottleneck.ipynb\" target=\"_parent\"><img src=\"https://colab.research.google.com/assets/colab-badge.svg\" alt=\"Open In Colab\"/></a>"
      ]
    },
    {
      "cell_type": "markdown",
      "source": [
        "This notebook provides an example of an explainable AI technique called [Concept Bottleneck Models](https://arxiv.org/abs/2007.04612).\n",
        "\n",
        "It has a companion [blog post](https://dlfelps.github.io/2024/06/03/few-shot.html).\n",
        "\n",
        "It is part of Daniel Felps' [ML portfolio](https://github.com/dlfelps/ml_portfolio/tree/main)"
      ],
      "metadata": {
        "id": "0GXuQM_8LIqb"
      }
    },
    {
      "cell_type": "markdown",
      "source": [
        "# SETUP ENVIRONMENT"
      ],
      "metadata": {
        "id": "U-SLW8KIAr6X"
      }
    },
    {
      "cell_type": "code",
      "execution_count": 1,
      "metadata": {
        "colab": {
          "base_uri": "https://localhost:8080/"
        },
        "id": "G7AKmj0olXFJ",
        "outputId": "a63fe6c0-f97d-438d-cef3-e49bc8205ee6"
      },
      "outputs": [
        {
          "output_type": "stream",
          "name": "stdout",
          "text": [
            "Cloning into 'datasets'...\n",
            "remote: Enumerating objects: 18, done.\u001b[K\n",
            "remote: Counting objects: 100% (18/18), done.\u001b[K\n",
            "remote: Compressing objects: 100% (11/11), done.\u001b[K\n",
            "remote: Total 18 (delta 5), reused 15 (delta 5), pack-reused 0\u001b[K\n",
            "Receiving objects: 100% (18/18), 6.23 KiB | 3.11 MiB/s, done.\n",
            "Resolving deltas: 100% (5/5), done.\n",
            "Cloning into 'concept_bottleneck'...\n",
            "remote: Enumerating objects: 33, done.\u001b[K\n",
            "remote: Counting objects: 100% (33/33), done.\u001b[K\n",
            "remote: Compressing objects: 100% (24/24), done.\u001b[K\n",
            "remote: Total 33 (delta 8), reused 30 (delta 8), pack-reused 0\u001b[K\n",
            "Receiving objects: 100% (33/33), 9.24 MiB | 13.80 MiB/s, done.\n",
            "Resolving deltas: 100% (8/8), done.\n",
            "Collecting pytorchcv\n",
            "  Downloading pytorchcv-0.0.67-py2.py3-none-any.whl (532 kB)\n",
            "\u001b[2K     \u001b[90m━━━━━━━━━━━━━━━━━━━━━━━━━━━━━━━━━━━━━━━━\u001b[0m \u001b[32m532.4/532.4 kB\u001b[0m \u001b[31m9.6 MB/s\u001b[0m eta \u001b[36m0:00:00\u001b[0m\n",
            "\u001b[?25hRequirement already satisfied: numpy in /usr/local/lib/python3.10/dist-packages (from pytorchcv) (1.25.2)\n",
            "Requirement already satisfied: requests in /usr/local/lib/python3.10/dist-packages (from pytorchcv) (2.31.0)\n",
            "Requirement already satisfied: charset-normalizer<4,>=2 in /usr/local/lib/python3.10/dist-packages (from requests->pytorchcv) (3.3.2)\n",
            "Requirement already satisfied: idna<4,>=2.5 in /usr/local/lib/python3.10/dist-packages (from requests->pytorchcv) (3.7)\n",
            "Requirement already satisfied: urllib3<3,>=1.21.1 in /usr/local/lib/python3.10/dist-packages (from requests->pytorchcv) (2.0.7)\n",
            "Requirement already satisfied: certifi>=2017.4.17 in /usr/local/lib/python3.10/dist-packages (from requests->pytorchcv) (2024.2.2)\n",
            "Installing collected packages: pytorchcv\n",
            "Successfully installed pytorchcv-0.0.67\n"
          ]
        }
      ],
      "source": [
        "!git clone https://github.com/dlfelps/datasets.git\n",
        "!git clone https://github.com/dlfelps/concept_bottleneck.git\n",
        "!pip install pytorchcv"
      ]
    },
    {
      "cell_type": "markdown",
      "source": [
        "# IMPORTS"
      ],
      "metadata": {
        "id": "CAx7w7ZvA8ea"
      }
    },
    {
      "cell_type": "code",
      "source": [
        "from pathlib import Path\n",
        "import pickle\n",
        "import numpy as np\n",
        "import re\n",
        "import pandas as pd\n",
        "import os\n",
        "\n",
        "\n",
        "from pytorchcv.model_provider import get_model\n",
        "\n",
        "from datasets.CUB200 import CUB200, CUB200_attributes\n",
        "from concept_bottleneck.cav import CAV\n",
        "from concept_bottleneck.interpretablePredictor import InterpretablePredictor\n",
        "from concept_bottleneck.conceptBottleneck import ConceptBottleneck\n",
        "from concept_bottleneck.utils import predict_embeddings\n",
        "\n",
        "import torch\n",
        "from torchvision.transforms import v2\n",
        "from torch.utils.data import DataLoader\n",
        "\n",
        "from sklearn.metrics import accuracy_score"
      ],
      "metadata": {
        "id": "N2sQsz3p3jVq"
      },
      "execution_count": 2,
      "outputs": []
    },
    {
      "cell_type": "markdown",
      "source": [
        "# DOWNLOAD DATASET (CUB)"
      ],
      "metadata": {
        "id": "YTPEmIahBMMY"
      }
    },
    {
      "cell_type": "code",
      "source": [
        "# TODO add transforms back\n",
        "cub = CUB200('.', download=True, is_test=False, transform = v2.Compose([\n",
        "      v2.Resize((224,224)),\n",
        "      v2.ToImage(),  # Convert to tensor, only needed if you had a PIL image\n",
        "      v2.ToDtype(torch.float32, scale=True),  # Normalize expects float input\n",
        "      v2.Normalize(mean=[0.485, 0.456, 0.406], std=[0.229, 0.224, 0.225])]))\n",
        "\n"
      ],
      "metadata": {
        "colab": {
          "base_uri": "https://localhost:8080/"
        },
        "id": "BbkOOV9yRlLe",
        "outputId": "934629e6-f170-42e3-a949-e3a27fed7034"
      },
      "execution_count": 5,
      "outputs": [
        {
          "output_type": "stream",
          "name": "stdout",
          "text": [
            "Files already downloaded and verified\n"
          ]
        }
      ]
    },
    {
      "cell_type": "markdown",
      "source": [
        "# COMPUTE VECTOR EMBEDDINGS"
      ],
      "metadata": {
        "id": "XXcyqzUmBmvv"
      }
    },
    {
      "cell_type": "code",
      "source": [
        "cub_dataloader = DataLoader(cub, batch_size=100)\n",
        "cub_res = get_model('resnet18_cub', pretrained=True, root='.')\n",
        "cub_res.output = torch.nn.Identity()\n",
        "cub_res = cub_res.to('cuda')\n",
        "cub_embeddings, ids = predict_embeddings(cub_dataloader, cub_res, device='cuda')"
      ],
      "metadata": {
        "colab": {
          "base_uri": "https://localhost:8080/"
        },
        "id": "n9JuEMlZBxPg",
        "outputId": "67a8ecbd-c4a3-451b-d3f5-f935b4eeef32"
      },
      "execution_count": 6,
      "outputs": [
        {
          "output_type": "stream",
          "name": "stderr",
          "text": [
            "Predicting embeddings: 100%|██████████| 58/58 [00:30<00:00,  1.92batch/s]\n"
          ]
        }
      ]
    },
    {
      "cell_type": "markdown",
      "source": [
        "# LOAD INTERPRETABLE FEATURE FROM CUB"
      ],
      "metadata": {
        "id": "gsRub12fD2F8"
      }
    },
    {
      "cell_type": "code",
      "source": [
        "cub_attr = CUB200_attributes('.', X=cub_embeddings, ids = ids, download=False)\n",
        "_,attributes = cub_attr.get_xy()\n",
        "\n",
        "id_map = cub.get_id_class_mapper()\n",
        "classes = np.array(list(map(lambda x: id_map[x], ids)))"
      ],
      "metadata": {
        "id": "Brox1erZBjPU"
      },
      "execution_count": 7,
      "outputs": []
    },
    {
      "cell_type": "markdown",
      "source": [
        "# CONCEPT BOTTLENECK MODEL"
      ],
      "metadata": {
        "id": "2F5dN2_QENTe"
      }
    },
    {
      "cell_type": "code",
      "source": [
        "# download pretrained models\n",
        "!wget https://github.com/dlfelps/ml_portfolio/raw/main/pretrained_models/cav.pkl\n",
        "!wget https://github.com/dlfelps/ml_portfolio/raw/main/pretrained_models/ip.pkl"
      ],
      "metadata": {
        "colab": {
          "base_uri": "https://localhost:8080/"
        },
        "id": "QmNLI7z0elVe",
        "outputId": "a39cd7f1-4260-45de-8adb-b3cbf00db925"
      },
      "execution_count": 8,
      "outputs": [
        {
          "output_type": "stream",
          "name": "stdout",
          "text": [
            "--2024-05-25 23:23:00--  https://github.com/dlfelps/ml_portfolio/raw/main/pretrained_models/cav.pkl\n",
            "Resolving github.com (github.com)... 20.205.243.166\n",
            "Connecting to github.com (github.com)|20.205.243.166|:443... connected.\n",
            "HTTP request sent, awaiting response... 302 Found\n",
            "Location: https://raw.githubusercontent.com/dlfelps/ml_portfolio/main/pretrained_models/cav.pkl [following]\n",
            "--2024-05-25 23:23:00--  https://raw.githubusercontent.com/dlfelps/ml_portfolio/main/pretrained_models/cav.pkl\n",
            "Resolving raw.githubusercontent.com (raw.githubusercontent.com)... 185.199.108.133, 185.199.109.133, 185.199.110.133, ...\n",
            "Connecting to raw.githubusercontent.com (raw.githubusercontent.com)|185.199.108.133|:443... connected.\n",
            "HTTP request sent, awaiting response... 200 OK\n",
            "Length: 7899855 (7.5M) [application/octet-stream]\n",
            "Saving to: ‘cav.pkl’\n",
            "\n",
            "cav.pkl             100%[===================>]   7.53M  --.-KB/s    in 0.02s   \n",
            "\n",
            "2024-05-25 23:23:01 (367 MB/s) - ‘cav.pkl’ saved [7899855/7899855]\n",
            "\n",
            "--2024-05-25 23:23:01--  https://github.com/dlfelps/ml_portfolio/raw/main/pretrained_models/ip.pkl\n",
            "Resolving github.com (github.com)... 20.205.243.166\n",
            "Connecting to github.com (github.com)|20.205.243.166|:443... connected.\n",
            "HTTP request sent, awaiting response... 302 Found\n",
            "Location: https://raw.githubusercontent.com/dlfelps/ml_portfolio/main/pretrained_models/ip.pkl [following]\n",
            "--2024-05-25 23:23:01--  https://raw.githubusercontent.com/dlfelps/ml_portfolio/main/pretrained_models/ip.pkl\n",
            "Resolving raw.githubusercontent.com (raw.githubusercontent.com)... 185.199.108.133, 185.199.109.133, 185.199.110.133, ...\n",
            "Connecting to raw.githubusercontent.com (raw.githubusercontent.com)|185.199.108.133|:443... connected.\n",
            "HTTP request sent, awaiting response... 200 OK\n",
            "Length: 10780327 (10M) [application/octet-stream]\n",
            "Saving to: ‘ip.pkl’\n",
            "\n",
            "ip.pkl              100%[===================>]  10.28M  --.-KB/s    in 0.03s   \n",
            "\n",
            "2024-05-25 23:23:02 (347 MB/s) - ‘ip.pkl’ saved [10780327/10780327]\n",
            "\n"
          ]
        }
      ]
    },
    {
      "cell_type": "code",
      "source": [
        "cbm = ConceptBottleneck()\n",
        "# cbm.fit(cub_embeddings, attributes, classes) # disable comment to train\n",
        "cbm.load_concept_predictors('cav.pkl') # load pretrained\n",
        "cbm.load_interpretable_predictor('ip.pkl') # load pretrained\n"
      ],
      "metadata": {
        "id": "6C8LxtMcgwiC"
      },
      "execution_count": 9,
      "outputs": []
    },
    {
      "cell_type": "markdown",
      "source": [
        "# ACCURACY"
      ],
      "metadata": {
        "id": "36-gixJBEb4e"
      }
    },
    {
      "cell_type": "code",
      "source": [
        "cub_test = CUB200('.', download=True, is_test=True, transform = v2.Compose([\n",
        "      v2.Resize((224,224)),\n",
        "      v2.ToImage(),  # Convert to tensor, only needed if you had a PIL image\n",
        "      v2.ToDtype(torch.float32, scale=True),  # Normalize expects float input\n",
        "      v2.Normalize(mean=[0.485, 0.456, 0.406], std=[0.229, 0.224, 0.225])]))"
      ],
      "metadata": {
        "colab": {
          "base_uri": "https://localhost:8080/"
        },
        "id": "5lRE9qPyEbnW",
        "outputId": "755087d5-6e1c-4142-945f-2d5b234c30ea"
      },
      "execution_count": 10,
      "outputs": [
        {
          "output_type": "stream",
          "name": "stdout",
          "text": [
            "Files already downloaded and verified\n"
          ]
        }
      ]
    },
    {
      "cell_type": "code",
      "source": [
        "cub_dataloader = DataLoader(cub_test, batch_size=100)\n",
        "cub_embeddings, ids = predict_embeddings(cub_dataloader, cub_res, device='cuda')\n",
        "id_map = cub.get_id_class_mapper()\n",
        "classes = np.array(list(map(lambda x: id_map[x], ids)))"
      ],
      "metadata": {
        "id": "yrVa1l4vmbsy",
        "colab": {
          "base_uri": "https://localhost:8080/"
        },
        "outputId": "5ff294e3-8c02-4c34-cce6-0d1b97e60b1b"
      },
      "execution_count": 11,
      "outputs": [
        {
          "output_type": "stream",
          "name": "stderr",
          "text": [
            "Predicting embeddings: 100%|██████████| 60/60 [00:30<00:00,  1.96batch/s]\n"
          ]
        }
      ]
    },
    {
      "cell_type": "code",
      "source": [
        "preds = cbm.predict(cub_embeddings)\n"
      ],
      "metadata": {
        "id": "4ykYzzkhmjSx"
      },
      "execution_count": 12,
      "outputs": []
    },
    {
      "cell_type": "code",
      "source": [
        "accuracy_score(classes, preds)"
      ],
      "metadata": {
        "colab": {
          "base_uri": "https://localhost:8080/"
        },
        "id": "geI2DVMInFMA",
        "outputId": "4099417d-fad4-44b0-b96a-bd974f472e86"
      },
      "execution_count": 13,
      "outputs": [
        {
          "output_type": "execute_result",
          "data": {
            "text/plain": [
              "0.5945945945945946"
            ]
          },
          "metadata": {},
          "execution_count": 13
        }
      ]
    }
  ]
}